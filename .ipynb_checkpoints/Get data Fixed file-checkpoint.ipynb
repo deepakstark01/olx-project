{
 "cells": [
  {
   "cell_type": "code",
   "execution_count": 1,
   "id": "f5c6b599",
   "metadata": {},
   "outputs": [],
   "source": [
    "import requests\n",
    "import pandas as pd\n",
    "from selenium import webdriver\n",
    "from selenium.webdriver.common.keys import Keys\n",
    "from selenium.webdriver.common.by import By\n",
    "from bs4 import BeautifulSoup\n",
    "import time\n",
    "from selenium.webdriver.support.ui import WebDriverWait\n",
    "from selenium.webdriver.support import expected_conditions as EC\n",
    "import time\n",
    "import random\n",
    "from selenium.webdriver.chrome.options import Options\n",
    "from datetime import datetime, timedelta\n",
    "import pytesseract\n",
    "import os\n",
    "import wget\n",
    "from PIL import Image\n",
    "import pytesseract\n",
    "from io import BytesIO\n",
    "try:\n",
    "    path = os.getcwd()\n",
    "    path = os.path.join(path, \"images\")\n",
    "    #create the directory\n",
    "    os.mkdir(path)\n",
    "except Exception:\n",
    "    pass"
   ]
  },
  {
   "cell_type": "markdown",
   "id": "b5cd765c",
   "metadata": {},
   "source": [
    "### Use options headless browser or exrta option can add like browser type or pravte window"
   ]
  },
  {
   "cell_type": "code",
   "execution_count": null,
   "id": "93e8d1f8",
   "metadata": {},
   "outputs": [],
   "source": [
    "# Configure Chrome options\n",
    "# chrome_options = Options()\n",
    "# chrome_options.add_argument(\"--headless\")  # Set headless mode without GUI \n",
    "\n",
    "# Create a new instance of the Chrome driver with the configured options\n",
    "# driver = webdriver.Chrome(options=chrome_options)\n",
    "# driver.get(\"https://olx.in\")\n",
    "# time.sleep(3)\n",
    "# driver.find_element(By.XPATH,\"*//input[@placeholder='Find Cars, Mobile Phones and more...']\").send_keys(\"HDFC bank\")\n",
    "# driver.find_element(By.XPATH,\"*//input[@placeholder='Find Cars, Mobile Phones and more...']\").send_keys(Keys.RETURN)"
   ]
  },
  {
   "cell_type": "markdown",
   "id": "44191926",
   "metadata": {},
   "source": [
    "# Without Headless Browser"
   ]
  },
  {
   "cell_type": "code",
   "execution_count": 2,
   "id": "17269b17",
   "metadata": {},
   "outputs": [
    {
     "name": "stdout",
     "output_type": "stream",
     "text": [
      "Enter your search query: hdfc bank\n"
     ]
    }
   ],
   "source": [
    "search_query = input(\"Enter your search query: \")\n",
    "driver = webdriver.Chrome() # without headless\n",
    "driver.get(\"https://olx.in\")\n",
    "driver.maximize_window()\n",
    "time.sleep(3)\n",
    "driver.find_element(By.XPATH,\"*//div/input[@data-aut-id='searchBox']\").send_keys(search_query)\n",
    "driver.find_element(By.XPATH,\"*//div/input[@data-aut-id='searchBox']\").send_keys(Keys.RETURN)"
   ]
  },
  {
   "cell_type": "code",
   "execution_count": 3,
   "id": "e6b695b0",
   "metadata": {},
   "outputs": [],
   "source": [
    "def randomdelay(min, max):\n",
    "    time.sleep(random.randint(min, max))"
   ]
  },
  {
   "cell_type": "markdown",
   "id": "d104e01f",
   "metadata": {},
   "source": [
    "# Image to text"
   ]
  },
  {
   "cell_type": "code",
   "execution_count": 5,
   "id": "81811e89",
   "metadata": {},
   "outputs": [],
   "source": [
    "def extract_text_from_image(image_url, name=None):\n",
    "    # Create the \"images\" directory if it doesn't exist\n",
    "    images_dir = 'images'\n",
    "    if not os.path.exists(images_dir):\n",
    "        os.makedirs(images_dir)\n",
    "    if name is not None:\n",
    "        save_as = os.path.join(path, name + '.jpg')\n",
    "        wget.download(image_url, save_as)\n",
    "    image = Image.open(save_as)\n",
    "    extracted_text = pytesseract.image_to_string(image,config=r\"--psm 6 --oem 3\")\n",
    "    return extracted_text\n",
    "\n",
    "# Example usage:\n",
    "# image_url = 'https://apollo-singapore.akamaized.net/v1/files/yb90nhk47umd3-IN/image;s=300x600;q=60' \n",
    "# text = extract_text_from_image(image_url, name='my_image') \n",
    "# print(\"\\n\",text)\n"
   ]
  },
  {
   "cell_type": "code",
   "execution_count": 6,
   "id": "f9931509",
   "metadata": {},
   "outputs": [
    {
     "name": "stdout",
     "output_type": "stream",
     "text": [
      "Enter the number of time you want load : 4\n"
     ]
    }
   ],
   "source": [
    "load= int(input(\"Enter the number of time you want load : \"))"
   ]
  },
  {
   "cell_type": "code",
   "execution_count": 7,
   "id": "18878ee8",
   "metadata": {},
   "outputs": [
    {
     "name": "stdout",
     "output_type": "stream",
     "text": [
      "0 times clicked load more\n",
      "1 times clicked load more\n",
      "2 times clicked load more\n",
      "3 times clicked load more\n"
     ]
    }
   ],
   "source": [
    "for i in range(0, load):\n",
    "    try:\n",
    "        element = WebDriverWait(driver, 10).until(EC.visibility_of_element_located((By.XPATH, '*//button[@type=\"button\"]/span[text() = \"load more\"]')))\n",
    "        element.click()\n",
    "        print(f\"{i} times clicked load more\")\n",
    "        randomdelay(1, 3)\n",
    "    except:\n",
    "        continue"
   ]
  },
  {
   "cell_type": "markdown",
   "id": "217b07f5",
   "metadata": {},
   "source": [
    "### Get data Links"
   ]
  },
  {
   "cell_type": "code",
   "execution_count": 8,
   "id": "a04a3a6c",
   "metadata": {},
   "outputs": [],
   "source": [
    "### Get all the card links \n",
    "\n",
    "Datalist = driver.find_elements(By.XPATH,'*//li[@data-aut-id=\"itemBox\"]')\n",
    "AdUrlList=[]\n",
    "\n",
    "for data in Datalist:\n",
    "    anchor_tag = data.find_element(By.XPATH, './/a')\n",
    "    url = anchor_tag.get_attribute('href')\n",
    "    AdUrlList.append(url)\n"
   ]
  },
  {
   "cell_type": "markdown",
   "id": "6f700ee8",
   "metadata": {},
   "source": [
    "### list url"
   ]
  },
  {
   "cell_type": "code",
   "execution_count": 7,
   "id": "e9fc7a4e",
   "metadata": {},
   "outputs": [
    {
     "name": "stdout",
     "output_type": "stream",
     "text": [
      "['https://www.olx.in/item/we-need-hdfc-bank-account-for-trades-if-you-have-this-account-so-con-iid-1737460793', 'https://www.olx.in/item/job-requirements-in-hdfc-bank-iid-1738480808', 'https://www.olx.in/item/job-requirements-in-hdfc-bank-iid-1738480766', 'https://www.olx.in/item/job-requirements-in-hdfc-bank-iid-1738480702', 'https://www.olx.in/item/job-requirements-in-hdfc-bank-iid-1738480634', 'https://www.olx.in/item/job-requirements-in-hdfc-bank-iid-1738480585', 'https://www.olx.in/item/job-requirements-in-hdfc-bank-iid-1738480472', 'https://www.olx.in/item/job-requirements-in-hdfc-bank-iid-1738480407', 'https://www.olx.in/item/job-requirements-in-hdfc-bank-iid-1738480351', 'https://www.olx.in/item/job-requirements-in-hdfc-bank-iid-1738480296', 'https://www.olx.in/item/job-requirements-in-hdfc-bank-iid-1738480221', 'https://www.olx.in/item/job-requirements-in-hdfc-bank-iid-1738480165', 'https://www.olx.in/item/job-requirements-in-hdfc-bank-iid-1738478450', 'https://www.olx.in/item/job-requirements-in-hdfc-bank-iid-1738478377', 'https://www.olx.in/item/job-requirements-in-hdfc-bank-iid-1738478334', 'https://www.olx.in/item/job-requirements-in-hdfc-bank-iid-1738478246', 'https://www.olx.in/item/job-requirements-in-hdfc-bank-iid-1738478175', 'https://www.olx.in/item/job-requirements-in-hdfc-bank-iid-1738478039', 'https://www.olx.in/item/job-requirements-in-hdfc-bank-iid-1738477988', 'https://www.olx.in/item/job-requirements-in-hdfc-bank-iid-1738477934', 'https://www.olx.in/item/job-requirements-in-hdfc-bank-iid-1738477877', 'https://www.olx.in/item/job-requirements-in-hdfc-bank-iid-1738477808', 'https://www.olx.in/item/job-requirements-in-hdfc-bank-iid-1738477748', 'https://www.olx.in/item/job-requirements-in-hdfc-bank-iid-1738477685', 'https://www.olx.in/item/job-requirements-in-hdfc-bank-iid-1738477637', 'https://www.olx.in/item/hdfc-bank-all-india-vacancy-available-hai-iid-1738475764', 'https://www.olx.in/item/hdfc-bank-atm-and-bank-security-guard-iid-1738460390', 'https://www.olx.in/item/joining-for-hdfc-bank-job-apply-in-lucknow-location--iid-1738453808', 'https://www.olx.in/item/hdfc-bank-online-job-homework-iid-1738429802', 'https://www.olx.in/item/720-sqft-shop-available-for-rent-in-chala-nr-hdfc-bank-road-touch-iid-1725063371', 'https://www.olx.in/item/hdfc-bank-mobile-atm-van-driver-iid-1738416865', 'https://www.olx.in/item/hdfc-bank-want-collection-boy-iid-1695055559', 'https://www.olx.in/item/job-requirements-in-hdfc-bank-iid-1738366095', 'https://www.olx.in/item/job-requirements-in-hdfc-bank-iid-1738366000', 'https://www.olx.in/item/job-requirements-in-hdfc-bank-iid-1738365948', 'https://www.olx.in/item/job-requirements-in-hdfc-bank-iid-1738365897', 'https://www.olx.in/item/job-requirements-in-hdfc-bank-iid-1738365840', 'https://www.olx.in/item/job-requirements-in-hdfc-bank-iid-1738365781', 'https://www.olx.in/item/job-requirements-in-hdfc-bank-iid-1738365714', 'https://www.olx.in/item/job-requirements-in-hdfc-bank-iid-1738365644', 'https://www.olx.in/item/job-requirements-in-hdfc-bank-iid-1738365587', 'https://www.olx.in/item/job-requirements-in-hdfc-bank-iid-1738365505', 'https://www.olx.in/item/job-requirements-in-hdfc-bank-iid-1738365421', 'https://www.olx.in/item/job-requirements-in-hdfc-bank-iid-1738365365', 'https://www.olx.in/item/job-requirements-in-hdfc-bank-iid-1738365290', 'https://www.olx.in/item/job-requirements-in-hdfc-bank-iid-1738365220', 'https://www.olx.in/item/job-requirements-in-hdfc-bank-iid-1738365157', 'https://www.olx.in/item/job-requirements-in-hdfc-bank-iid-1738365013', 'https://www.olx.in/item/job-requirements-in-hdfc-bank-iid-1738364941', 'https://www.olx.in/item/job-requirements-in-hdfc-bank-iid-1738364874', 'https://www.olx.in/item/job-requirements-in-hdfc-bank-iid-1738364068', 'https://www.olx.in/item/job-requirements-in-hdfc-bank-iid-1738363943', 'https://www.olx.in/item/job-requirements-in-hdfc-bank-iid-1738363874', 'https://www.olx.in/item/job-requirements-in-hdfc-bank-iid-1738363813', 'https://www.olx.in/item/job-requirements-in-hdfc-bank-iid-1738362125', 'https://www.olx.in/item/job-requirements-in-hdfc-bank-iid-1738362077', 'https://www.olx.in/item/job-requirements-in-hdfc-bank-iid-1738361925', 'https://www.olx.in/item/job-requirements-in-hdfc-bank-iid-1738361793', 'https://www.olx.in/item/job-requirements-in-hdfc-bank-iid-1738361738', 'https://www.olx.in/item/job-requirements-in-hdfc-bank-iid-1738361668']\n"
     ]
    }
   ],
   "source": [
    "print(AdUrlList)"
   ]
  },
  {
   "cell_type": "markdown",
   "id": "c3366006",
   "metadata": {},
   "source": [
    "# Please run these before main task Change Date fromat "
   ]
  },
  {
   "cell_type": "code",
   "execution_count": 9,
   "id": "6a77624e",
   "metadata": {},
   "outputs": [],
   "source": [
    "def get_formatted_date(Datedata):\n",
    "    today = datetime.now().date()\n",
    "    \n",
    "    if Datedata == \"Today\":\n",
    "        return today.strftime(\"%b %d, %Y\")\n",
    "    elif Datedata == \"Yesterday\":\n",
    "        yesterday = today - timedelta(days=1)\n",
    "        return yesterday.strftime(\"%b %d, %Y\")\n",
    "    elif Datedata == \"Tomorrow\":\n",
    "        tomorrow = today + timedelta(days=1)\n",
    "        return tomorrow.strftime(\"%b %d, %Y\")\n",
    "    elif len(Datedata) > 0:\n",
    "        return Datedata + \", \" + str(today.year)\n",
    "    else:\n",
    "        return None\n",
    "#     else:\n",
    "#         try:\n",
    "#             date_obj = datetime.strptime(datedata, \"%b %d\")\n",
    "#             date_with_year = date_obj.replace(year=today.year).strftime(\"%b %d, %Y\")\n",
    "#             return date_with_year\n",
    "#         except ValueError:\n",
    "#             print(ValueError)\n",
    "#             return None"
   ]
  },
  {
   "cell_type": "markdown",
   "id": "042e147e",
   "metadata": {},
   "source": [
    "# After Time function Run these below"
   ]
  },
  {
   "cell_type": "code",
   "execution_count": 11,
   "id": "6bc4b6c2",
   "metadata": {
    "scrolled": false
   },
   "outputs": [
    {
     "name": "stdout",
     "output_type": "stream",
     "text": [
      "Number of ads are : 100\n",
      "https://www.olx.in/item/we-need-hdfc-bank-account-for-trades-if-you-have-this-account-so-con-iid-1737460793\n",
      "100% [..............................................................................] 17154 / 17154Jul 11, 2023 image text :  We need HDFC BANK account if\n",
      "you have this so Call.us\n",
      "96497-24531.\n",
      "\n",
      "olx\n",
      "\n",
      "{'name': 'Manohar', 'Salary from': '15000', 'Position Type': 'Full-time', 'Salary period': 'Weekly', 'Salary to': '20000', 'posted': 'Jul 11, 2023', 'imageText': 'We need HDFC BANK account if\\nyou have this so Call.us\\n96497-24531.\\n\\nolx\\n', 'adress': 'Patel Nagar, Lucknow, Uttar Pradesh', 'Description': 'We need HDFC BANK account so give us we give you payment every month this safe and long work now call us for. Any information\\nNumber available in photo check and call us immediately'}\n",
      "https://www.olx.in/item/hdfc-bank-loan-department-iid-1735020442\n"
     ]
    },
    {
     "ename": "TimeoutException",
     "evalue": "Message: \nStacktrace:\nBacktrace:\n\tGetHandleVerifier [0x0092A813+48355]\n\t(No symbol) [0x008BC4B1]\n\t(No symbol) [0x007C5358]\n\t(No symbol) [0x007F09A5]\n\t(No symbol) [0x007F0B3B]\n\t(No symbol) [0x0081E232]\n\t(No symbol) [0x0080A784]\n\t(No symbol) [0x0081C922]\n\t(No symbol) [0x0080A536]\n\t(No symbol) [0x007E82DC]\n\t(No symbol) [0x007E93DD]\n\tGetHandleVerifier [0x00B8AABD+2539405]\n\tGetHandleVerifier [0x00BCA78F+2800735]\n\tGetHandleVerifier [0x00BC456C+2775612]\n\tGetHandleVerifier [0x009B51E0+616112]\n\t(No symbol) [0x008C5F8C]\n\t(No symbol) [0x008C2328]\n\t(No symbol) [0x008C240B]\n\t(No symbol) [0x008B4FF7]\n\tBaseThreadInitThunk [0x75DB7D59+25]\n\tRtlInitializeExceptionChain [0x7757B74B+107]\n\tRtlClearBits [0x7757B6CF+191]\n",
     "output_type": "error",
     "traceback": [
      "\u001b[1;31m---------------------------------------------------------------------------\u001b[0m",
      "\u001b[1;31mTimeoutException\u001b[0m                          Traceback (most recent call last)",
      "\u001b[1;32m~\\AppData\\Local\\Temp/ipykernel_3232/981217933.py\u001b[0m in \u001b[0;36m<module>\u001b[1;34m\u001b[0m\n\u001b[0;32m     20\u001b[0m     \u001b[0mdatedata\u001b[0m\u001b[1;33m=\u001b[0m\u001b[0mWebDriverWait\u001b[0m\u001b[1;33m(\u001b[0m\u001b[0mdriver\u001b[0m\u001b[1;33m,\u001b[0m \u001b[1;36m10\u001b[0m\u001b[1;33m)\u001b[0m\u001b[1;33m.\u001b[0m\u001b[0muntil\u001b[0m\u001b[1;33m(\u001b[0m\u001b[0mEC\u001b[0m\u001b[1;33m.\u001b[0m\u001b[0mvisibility_of_element_located\u001b[0m\u001b[1;33m(\u001b[0m\u001b[1;33m(\u001b[0m\u001b[0mBy\u001b[0m\u001b[1;33m.\u001b[0m\u001b[0mXPATH\u001b[0m\u001b[1;33m,\u001b[0m \u001b[0mdate_of_post\u001b[0m\u001b[1;33m)\u001b[0m\u001b[1;33m)\u001b[0m\u001b[1;33m)\u001b[0m\u001b[1;33m.\u001b[0m\u001b[0mtext\u001b[0m\u001b[1;33m\u001b[0m\u001b[1;33m\u001b[0m\u001b[0m\n\u001b[0;32m     21\u001b[0m     \u001b[0maddressdata\u001b[0m\u001b[1;33m=\u001b[0m\u001b[0mWebDriverWait\u001b[0m\u001b[1;33m(\u001b[0m\u001b[0mdriver\u001b[0m\u001b[1;33m,\u001b[0m \u001b[1;36m10\u001b[0m\u001b[1;33m)\u001b[0m\u001b[1;33m.\u001b[0m\u001b[0muntil\u001b[0m\u001b[1;33m(\u001b[0m\u001b[0mEC\u001b[0m\u001b[1;33m.\u001b[0m\u001b[0mvisibility_of_element_located\u001b[0m\u001b[1;33m(\u001b[0m\u001b[1;33m(\u001b[0m\u001b[0mBy\u001b[0m\u001b[1;33m.\u001b[0m\u001b[0mXPATH\u001b[0m\u001b[1;33m,\u001b[0m\u001b[0madrees\u001b[0m\u001b[1;33m)\u001b[0m\u001b[1;33m)\u001b[0m\u001b[1;33m)\u001b[0m\u001b[1;33m.\u001b[0m\u001b[0mtext\u001b[0m\u001b[1;33m\u001b[0m\u001b[1;33m\u001b[0m\u001b[0m\n\u001b[1;32m---> 22\u001b[1;33m     \u001b[0msdata\u001b[0m\u001b[1;33m=\u001b[0m\u001b[0mWebDriverWait\u001b[0m\u001b[1;33m(\u001b[0m\u001b[0mdriver\u001b[0m\u001b[1;33m,\u001b[0m \u001b[1;36m10\u001b[0m\u001b[1;33m)\u001b[0m\u001b[1;33m.\u001b[0m\u001b[0muntil\u001b[0m\u001b[1;33m(\u001b[0m\u001b[0mEC\u001b[0m\u001b[1;33m.\u001b[0m\u001b[0mvisibility_of_element_located\u001b[0m\u001b[1;33m(\u001b[0m\u001b[1;33m(\u001b[0m\u001b[0mBy\u001b[0m\u001b[1;33m.\u001b[0m\u001b[0mXPATH\u001b[0m\u001b[1;33m,\u001b[0m \u001b[0msdetils\u001b[0m\u001b[1;33m)\u001b[0m\u001b[1;33m)\u001b[0m\u001b[1;33m)\u001b[0m\u001b[1;33m.\u001b[0m\u001b[0mtext\u001b[0m\u001b[1;33m\u001b[0m\u001b[1;33m\u001b[0m\u001b[0m\n\u001b[0m\u001b[0;32m     23\u001b[0m \u001b[1;31m#     sdata = driver.find_element(By.XPATH, sdetils).text\u001b[0m\u001b[1;33m\u001b[0m\u001b[1;33m\u001b[0m\u001b[0m\n\u001b[0;32m     24\u001b[0m     \u001b[0mjdata\u001b[0m\u001b[1;33m=\u001b[0m\u001b[0mWebDriverWait\u001b[0m\u001b[1;33m(\u001b[0m\u001b[0mdriver\u001b[0m\u001b[1;33m,\u001b[0m \u001b[1;36m10\u001b[0m\u001b[1;33m)\u001b[0m\u001b[1;33m.\u001b[0m\u001b[0muntil\u001b[0m\u001b[1;33m(\u001b[0m\u001b[0mEC\u001b[0m\u001b[1;33m.\u001b[0m\u001b[0mvisibility_of_element_located\u001b[0m\u001b[1;33m(\u001b[0m\u001b[1;33m(\u001b[0m\u001b[0mBy\u001b[0m\u001b[1;33m.\u001b[0m\u001b[0mXPATH\u001b[0m\u001b[1;33m,\u001b[0m \u001b[0mjtypeDetails\u001b[0m\u001b[1;33m)\u001b[0m\u001b[1;33m)\u001b[0m\u001b[1;33m)\u001b[0m\u001b[1;33m.\u001b[0m\u001b[0mtext\u001b[0m\u001b[1;33m\u001b[0m\u001b[1;33m\u001b[0m\u001b[0m\n",
      "\u001b[1;32mC:\\Python39\\lib\\site-packages\\selenium\\webdriver\\support\\wait.py\u001b[0m in \u001b[0;36muntil\u001b[1;34m(self, method, message)\u001b[0m\n\u001b[0;32m     93\u001b[0m             \u001b[1;32mif\u001b[0m \u001b[0mtime\u001b[0m\u001b[1;33m.\u001b[0m\u001b[0mmonotonic\u001b[0m\u001b[1;33m(\u001b[0m\u001b[1;33m)\u001b[0m \u001b[1;33m>\u001b[0m \u001b[0mend_time\u001b[0m\u001b[1;33m:\u001b[0m\u001b[1;33m\u001b[0m\u001b[1;33m\u001b[0m\u001b[0m\n\u001b[0;32m     94\u001b[0m                 \u001b[1;32mbreak\u001b[0m\u001b[1;33m\u001b[0m\u001b[1;33m\u001b[0m\u001b[0m\n\u001b[1;32m---> 95\u001b[1;33m         \u001b[1;32mraise\u001b[0m \u001b[0mTimeoutException\u001b[0m\u001b[1;33m(\u001b[0m\u001b[0mmessage\u001b[0m\u001b[1;33m,\u001b[0m \u001b[0mscreen\u001b[0m\u001b[1;33m,\u001b[0m \u001b[0mstacktrace\u001b[0m\u001b[1;33m)\u001b[0m\u001b[1;33m\u001b[0m\u001b[1;33m\u001b[0m\u001b[0m\n\u001b[0m\u001b[0;32m     96\u001b[0m \u001b[1;33m\u001b[0m\u001b[0m\n\u001b[0;32m     97\u001b[0m     \u001b[1;32mdef\u001b[0m \u001b[0muntil_not\u001b[0m\u001b[1;33m(\u001b[0m\u001b[0mself\u001b[0m\u001b[1;33m,\u001b[0m \u001b[0mmethod\u001b[0m\u001b[1;33m,\u001b[0m \u001b[0mmessage\u001b[0m\u001b[1;33m:\u001b[0m \u001b[0mstr\u001b[0m \u001b[1;33m=\u001b[0m \u001b[1;34m\"\"\u001b[0m\u001b[1;33m)\u001b[0m\u001b[1;33m:\u001b[0m\u001b[1;33m\u001b[0m\u001b[1;33m\u001b[0m\u001b[0m\n",
      "\u001b[1;31mTimeoutException\u001b[0m: Message: \nStacktrace:\nBacktrace:\n\tGetHandleVerifier [0x0092A813+48355]\n\t(No symbol) [0x008BC4B1]\n\t(No symbol) [0x007C5358]\n\t(No symbol) [0x007F09A5]\n\t(No symbol) [0x007F0B3B]\n\t(No symbol) [0x0081E232]\n\t(No symbol) [0x0080A784]\n\t(No symbol) [0x0081C922]\n\t(No symbol) [0x0080A536]\n\t(No symbol) [0x007E82DC]\n\t(No symbol) [0x007E93DD]\n\tGetHandleVerifier [0x00B8AABD+2539405]\n\tGetHandleVerifier [0x00BCA78F+2800735]\n\tGetHandleVerifier [0x00BC456C+2775612]\n\tGetHandleVerifier [0x009B51E0+616112]\n\t(No symbol) [0x008C5F8C]\n\t(No symbol) [0x008C2328]\n\t(No symbol) [0x008C240B]\n\t(No symbol) [0x008B4FF7]\n\tBaseThreadInitThunk [0x75DB7D59+25]\n\tRtlInitializeExceptionChain [0x7757B74B+107]\n\tRtlClearBits [0x7757B6CF+191]\n"
     ]
    }
   ],
   "source": [
    "df = pd.DataFrame(columns=['name', 'Salary from', 'Position Type', 'Salary period', 'Salary to','posted','imageText','address', 'Description'])\n",
    "data_list = []\n",
    "print(\"Number of ads are :\", len(AdUrlList))\n",
    "imageName=1\n",
    "imageText=\"\"\n",
    "for addUrl in AdUrlList:\n",
    "    print(addUrl)\n",
    "    driver.get(addUrl)\n",
    "    name_ower=\"*//div[@class='eHFQs']\"\n",
    "    sdetils = \"*//span[@data-aut-id='value_salary_from']\"\n",
    "    jtypeDetails = \"*//span[@data-aut-id='value_job_type']\"\n",
    "    mperiodDetails = \"*//span[@data-aut-id='value_salary_period']\"\n",
    "    SToPeriodDetails = \"*//span[@data-aut-id='value_salary_to']\"\n",
    "    Description = \"*//div[@data-aut-id='itemDescriptionContent']\"\n",
    "    date_of_post=\"*//div[@data-aut-id='itemCreationDate']\"\n",
    "    adrees=\"*//div//span[@class='_1RkZP']\"\n",
    "    \n",
    "    try:\n",
    "        owerdata=WebDriverWait(driver, 10).until(EC.visibility_of_element_located((By.XPATH,name_ower))).text\n",
    "        datedata=WebDriverWait(driver, 10).until(EC.visibility_of_element_located((By.XPATH, date_of_post))).text\n",
    "        addressdata=WebDriverWait(driver, 10).until(EC.visibility_of_element_located((By.XPATH,adrees))).text\n",
    "        sdata=WebDriverWait(driver, 10).until(EC.visibility_of_element_located((By.XPATH, sdetils))).text\n",
    "    #     sdata = driver.find_element(By.XPATH, sdetils).text\n",
    "        jdata=WebDriverWait(driver, 10).until(EC.visibility_of_element_located((By.XPATH, jtypeDetails))).text\n",
    "    #     jdata = driver.find_element(By.XPATH, jtypeDetails).text\n",
    "        mdata=WebDriverWait(driver, 10).until(EC.visibility_of_element_located((By.XPATH, mperiodDetails))).text\n",
    "    #     mdata = driver.find_element(By.XPATH, mperiodDetails).text\n",
    "        Stopdata=WebDriverWait(driver, 10).until(EC.visibility_of_element_located((By.XPATH, SToPeriodDetails))).text\n",
    "    #     Stopdata = driver.find_element(By.XPATH, SToPeriodDetails).text\n",
    "        Descdata=WebDriverWait(driver, 10).until(EC.visibility_of_element_located((By.XPATH, Description))).text\n",
    "        datedata= str(get_formatted_date(datedata)) # read these code understand here change into string \n",
    "        try:\n",
    "            image_url=WebDriverWait(driver, 10).until(EC.visibility_of_element_located((By.XPATH, \"*//div//figure/img\"))).get_attribute('src')\n",
    "            imageText=extract_text_from_image(image_url, name=str(imageName))\n",
    "            imageName+=1\n",
    "        except:\n",
    "            imageText=\"not found\"\n",
    "        print(datedata,\"image text : \" ,imageText)\n",
    "    except:\n",
    "        print(\"add is not related to hdfcank it is another type need to make logic according it data field\")\n",
    "        continue\n",
    "#   Descdata = driver.find_element(By.XPATH, Description).text\n",
    "    randomdelay(1, 3)\n",
    "    saveData={\n",
    "        'name':owerdata,\n",
    "        'Salary from': sdata,\n",
    "        'Position Type': jdata,\n",
    "        'Salary period': mdata,\n",
    "        'Salary to': Stopdata,\n",
    "        'posted':datedata,\n",
    "        'imageText':imageText,\n",
    "        'adress':addressdata,\n",
    "        'Description': Descdata\n",
    "    }\n",
    "    print(saveData)\n",
    "    data_list.append(saveData)\n",
    "    randomdelay(2, 3)\n",
    "    # below colum keys must match which updated now\n",
    "    df = pd.DataFrame(data_list, columns=['name', 'Salary from', 'Position Type', 'Salary period', 'Salary to', 'posted','imageText','adress', 'Description'])\n",
    "    df.to_excel('output.xlsx', index=False)\n"
   ]
  },
  {
   "cell_type": "markdown",
   "id": "62885584",
   "metadata": {},
   "source": [
    "# Rough work testing data function"
   ]
  },
  {
   "cell_type": "code",
   "execution_count": null,
   "id": "9a8cbde0",
   "metadata": {},
   "outputs": [],
   "source": [
    "get_formatted_date(datedata)"
   ]
  },
  {
   "cell_type": "code",
   "execution_count": null,
   "id": "cf8721f7",
   "metadata": {},
   "outputs": [],
   "source": [
    "get_formatted_date(\"Jun 17\")"
   ]
  },
  {
   "cell_type": "code",
   "execution_count": null,
   "id": "80afa631",
   "metadata": {},
   "outputs": [],
   "source": [
    "get_formatted_date(\"Today\")"
   ]
  },
  {
   "cell_type": "code",
   "execution_count": null,
   "id": "c0001093",
   "metadata": {},
   "outputs": [],
   "source": [
    "get_formatted_date(\"Yesterday\")"
   ]
  },
  {
   "cell_type": "code",
   "execution_count": null,
   "id": "205cf1a8",
   "metadata": {},
   "outputs": [],
   "source": [
    "df"
   ]
  },
  {
   "cell_type": "code",
   "execution_count": null,
   "id": "83a7792b",
   "metadata": {},
   "outputs": [],
   "source": []
  },
  {
   "cell_type": "code",
   "execution_count": null,
   "id": "7fd1ba39",
   "metadata": {},
   "outputs": [],
   "source": [
    "df = pd.DataFrame(data_list, columns=['name', 'Salary from', 'Position Type', 'Salary period', 'Salary to', 'posted', 'adress', 'Description'])\n",
    "df.to_excel('output.xlsx', index=False)"
   ]
  },
  {
   "cell_type": "code",
   "execution_count": null,
   "id": "0494f1ea",
   "metadata": {},
   "outputs": [],
   "source": [
    "df"
   ]
  },
  {
   "cell_type": "code",
   "execution_count": 17,
   "id": "c3501310",
   "metadata": {},
   "outputs": [
    {
     "name": "stdout",
     "output_type": "stream",
     "text": [
      "100% [..............................................................................] 17154 / 17154\n",
      " We need HDFC BANK account if\n",
      "you have this so Call.us\n",
      "96497-24531.\n",
      "\n",
      "olx\n",
      "\n"
     ]
    }
   ],
   "source": [
    "import os\n",
    "import wget\n",
    "from PIL import Image\n",
    "import pytesseract\n",
    "from io import BytesIO\n",
    "try:\n",
    "    path = os.getcwd()\n",
    "    path = os.path.join(path, \"images\")\n",
    "    os.mkdir(path)\n",
    "except Exception:\n",
    "    pass\n",
    "\n",
    "def extract_text_from_image(image_url, name=None):\n",
    "    images_dir = 'images'\n",
    "    if not os.path.exists(images_dir):\n",
    "        os.makedirs(images_dir)\n",
    "    if name is not None:\n",
    "        save_as = os.path.join(path, name + '.jpg')\n",
    "        wget.download(image_url, save_as)\n",
    "    image = Image.open(save_as)\n",
    "    extracted_text = pytesseract.image_to_string(image,config=r\"--psm 6 --oem 3\")\n",
    "\n",
    "    return extracted_text\n",
    "\n",
    "\n",
    "image_url = 'https://apollo-singapore.akamaized.net/v1/files/yb90nhk47umd3-IN/image;s=300x600;q=60'  # Replace with the actual URL of the image\n",
    "text = extract_text_from_image(image_url, name='my_image')  # The downloaded image will be saved as 'images/my_image.jpg'\n",
    "print(\"\\n\",text)\n"
   ]
  },
  {
   "cell_type": "code",
   "execution_count": null,
   "id": "f1de1fc1",
   "metadata": {},
   "outputs": [],
   "source": []
  }
 ],
 "metadata": {
  "kernelspec": {
   "display_name": "Python 3 (ipykernel)",
   "language": "python",
   "name": "python3"
  },
  "language_info": {
   "codemirror_mode": {
    "name": "ipython",
    "version": 3
   },
   "file_extension": ".py",
   "mimetype": "text/x-python",
   "name": "python",
   "nbconvert_exporter": "python",
   "pygments_lexer": "ipython3",
   "version": "3.9.9"
  }
 },
 "nbformat": 4,
 "nbformat_minor": 5
}
